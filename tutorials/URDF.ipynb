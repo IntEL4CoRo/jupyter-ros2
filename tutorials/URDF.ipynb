{
 "cells": [
  {
   "cell_type": "markdown",
   "id": "396ae36f-6db4-4726-92cc-9362a93668e1",
   "metadata": {},
   "source": [
    "# URDF tutorial\n",
    "\n",
    "Goal: Learn how to build a visual model of a robot that you can view in Rviz\n",
    "\n",
    "Tutorial level: Intermediate\n",
    "\n",
    "Time: 20 minutes\n",
    "\n",
    "Source: [Building a visual robot model from scratch](https://docs.ros.org/en/humble/Tutorials/Intermediate/URDF/Building-a-Visual-Robot-Model-with-URDF-from-Scratch.html)"
   ]
  },
  {
   "cell_type": "markdown",
   "id": "8333c704-866d-43cb-bd3c-549538cf94b3",
   "metadata": {},
   "source": [
    "## The simplest URDF file\n",
    "\n",
    "Create the simplest URDF model file `urdf/01-myfirst.urdf`:\n",
    "```xml\n",
    "<?xml version=\"1.0\"?>\n",
    "<robot name=\"myfirst\">\n",
    "  <link name=\"base_link\">\n",
    "    <visual>\n",
    "      <geometry>\n",
    "        <cylinder length=\"0.6\" radius=\"0.2\"/>\n",
    "      </geometry>\n",
    "    </visual>\n",
    "  </link>\n",
    "</robot>\n",
    "```\n",
    "\n",
    "### To examine the model, launch the display.launch.py file\n",
    "\n",
    "Modify your urdf file and rerun the display command below to see the changes."
   ]
  },
  {
   "cell_type": "code",
   "execution_count": null,
   "id": "74a7ef87-227d-45f8-a0bd-af99a11a2754",
   "metadata": {
    "scrolled": true
   },
   "outputs": [],
   "source": [
    "!ros2 launch urdf_tutorial display.launch.py model:=$PWD/urdf/01-myfirst.urdf"
   ]
  },
  {
   "cell_type": "markdown",
   "id": "8eda0acb-b585-4ba0-9e15-26848fb7f92e",
   "metadata": {},
   "source": [
    "## Multiple Shapes\n",
    "\n",
    "URDF samples are under diretory: `/opt/ros/humble/share/urdf_tutorial/urdf/`"
   ]
  },
  {
   "cell_type": "code",
   "execution_count": null,
   "id": "85a95571-0d52-43e0-a660-98b94863159d",
   "metadata": {
    "scrolled": true
   },
   "outputs": [],
   "source": [
    "!cat /opt/ros/humble/share/urdf_tutorial/urdf/02-multipleshapes.urdf\n",
    "!ros2 launch urdf_tutorial display.launch.py model:=urdf/02-multipleshapes.urdf"
   ]
  },
  {
   "cell_type": "code",
   "execution_count": null,
   "id": "e3323670-dd99-4c8a-982a-9f675bd3614d",
   "metadata": {
    "scrolled": true
   },
   "outputs": [],
   "source": [
    "!ros2 launch urdf_tutorial display.launch.py model:=urdf/03-origins.urdf"
   ]
  },
  {
   "cell_type": "code",
   "execution_count": null,
   "id": "c797da6b-fdf9-4059-a0e8-b75dc3c2d962",
   "metadata": {
    "scrolled": true
   },
   "outputs": [],
   "source": [
    "!ros2 launch urdf_tutorial display.launch.py model:=urdf/04-materials.urdf"
   ]
  },
  {
   "cell_type": "code",
   "execution_count": null,
   "id": "7cc907a5-8eaf-4add-8904-9585cda0baa6",
   "metadata": {
    "scrolled": true
   },
   "outputs": [],
   "source": [
    "!ros2 launch urdf_tutorial display.launch.py model:=urdf/05-visual.urdf"
   ]
  },
  {
   "cell_type": "code",
   "execution_count": null,
   "id": "5e663102-b05a-4f7c-bbdf-779cece4ae34",
   "metadata": {
    "scrolled": true
   },
   "outputs": [],
   "source": [
    "!ros2 launch urdf_tutorial display.launch.py model:=urdf/06-flexible.urdf"
   ]
  },
  {
   "cell_type": "code",
   "execution_count": null,
   "id": "70286f85-1d27-40de-8bc1-aaaa4c2f34f7",
   "metadata": {},
   "outputs": [],
   "source": []
  }
 ],
 "metadata": {
  "kernelspec": {
   "display_name": "Python 3 (ipykernel)",
   "language": "python",
   "name": "python3"
  },
  "language_info": {
   "codemirror_mode": {
    "name": "ipython",
    "version": 3
   },
   "file_extension": ".py",
   "mimetype": "text/x-python",
   "name": "python",
   "nbconvert_exporter": "python",
   "pygments_lexer": "ipython3",
   "version": "3.10.11"
  }
 },
 "nbformat": 4,
 "nbformat_minor": 5
}
