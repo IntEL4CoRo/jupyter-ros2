{
 "cells": [
  {
   "cell_type": "markdown",
   "id": "8d9b84ac-c29e-41fd-ae33-ac86ad556b63",
   "metadata": {},
   "source": [
    "# Isaac Sim Cloud demo"
   ]
  },
  {
   "cell_type": "markdown",
   "id": "a8333dd5-37b5-41dd-85f9-79301cdd35cd",
   "metadata": {},
   "source": [
    "## Start Issac-sim in headless mode\n",
    "Takes quite some time.\n",
    "\n",
    "```bash\n",
    "isaacsim isaacsim.exp.full.streaming --no-window\n",
    "```"
   ]
  },
  {
   "cell_type": "code",
   "execution_count": null,
   "id": "a1fa3c14-feb1-4436-89b3-bec11d4af64d",
   "metadata": {
    "scrolled": true
   },
   "outputs": [],
   "source": [
    "%%bash --bg\n",
    "!isaacsim isaacsim.exp.full.streaming --no-window"
   ]
  },
  {
   "cell_type": "markdown",
   "id": "6b9d1211-630d-48cb-9ab2-135a6b03d1e7",
   "metadata": {},
   "source": [
    "## Open Virtual Display"
   ]
  },
  {
   "cell_type": "code",
   "execution_count": null,
   "id": "318701e3-70f1-4b58-a6ee-1364e001dd75",
   "metadata": {},
   "outputs": [],
   "source": [
    "from utils import display_desktop\n",
    "display_desktop()"
   ]
  },
  {
   "cell_type": "markdown",
   "id": "4dfe14de-28d0-4009-8ac9-3472bc71040c",
   "metadata": {},
   "source": [
    "## Launch Isaac webrtc client\n",
    "\n",
    "```bash\n",
    "./isaacsim-webrtc-streaming-client-1.0.6-linux-x64.AppImage\n",
    "```\n",
    "\n",
    "> For 4.2 open the following link in Chrome\n",
    "> \n",
    "> http://127.0.0.1:8211/streaming/webrtc-client?server=127.0.0.1"
   ]
  },
  {
   "cell_type": "code",
   "execution_count": 3,
   "id": "4af72ee1-633a-4e95-852c-1e179d517a2f",
   "metadata": {},
   "outputs": [],
   "source": [
    "%%bash --bg\n",
    "!/isaacsim-webrtc-streaming-client-1.0.6-linux-x64.AppImage"
   ]
  },
  {
   "cell_type": "code",
   "execution_count": null,
   "id": "e90640bf-c3a5-4bec-ae21-b42d942aef20",
   "metadata": {},
   "outputs": [],
   "source": []
  }
 ],
 "metadata": {
  "kernelspec": {
   "display_name": "Python 3 (ipykernel)",
   "language": "python",
   "name": "python3"
  },
  "language_info": {
   "codemirror_mode": {
    "name": "ipython",
    "version": 3
   },
   "file_extension": ".py",
   "mimetype": "text/x-python",
   "name": "python",
   "nbconvert_exporter": "python",
   "pygments_lexer": "ipython3",
   "version": "3.10.11"
  }
 },
 "nbformat": 4,
 "nbformat_minor": 5
}
