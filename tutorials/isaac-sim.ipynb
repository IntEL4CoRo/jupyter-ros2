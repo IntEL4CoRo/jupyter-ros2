{
 "cells": [
  {
   "cell_type": "markdown",
   "id": "8d9b84ac-c29e-41fd-ae33-ac86ad556b63",
   "metadata": {},
   "source": [
    "# Isaac Sim Cloud Demo"
   ]
  },
  {
   "cell_type": "markdown",
   "id": "6b9d1211-630d-48cb-9ab2-135a6b03d1e7",
   "metadata": {},
   "source": [
    "## Open Virtual Display"
   ]
  },
  {
   "cell_type": "code",
   "execution_count": null,
   "id": "318701e3-70f1-4b58-a6ee-1364e001dd75",
   "metadata": {},
   "outputs": [],
   "source": [
    "from utils import display_desktop\n",
    "display_desktop()"
   ]
  },
  {
   "cell_type": "markdown",
   "id": "9fc321ea",
   "metadata": {},
   "source": [
    "## Start Issac-sim in the background"
   ]
  },
  {
   "cell_type": "code",
   "execution_count": null,
   "id": "1524d530",
   "metadata": {},
   "outputs": [],
   "source": [
    "%%bash --bg\n",
    "isaacsim isaacsim.exp.full"
   ]
  }
 ],
 "metadata": {
  "kernelspec": {
   "display_name": "Python 3 (ipykernel)",
   "language": "python",
   "name": "python3"
  },
  "language_info": {
   "codemirror_mode": {
    "name": "ipython",
    "version": 3
   },
   "file_extension": ".py",
   "mimetype": "text/x-python",
   "name": "python",
   "nbconvert_exporter": "python",
   "pygments_lexer": "ipython3",
   "version": "3.10.11"
  }
 },
 "nbformat": 4,
 "nbformat_minor": 5
}
