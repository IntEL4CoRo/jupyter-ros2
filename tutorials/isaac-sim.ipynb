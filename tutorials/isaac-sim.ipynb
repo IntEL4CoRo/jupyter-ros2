{
 "cells": [
  {
   "cell_type": "markdown",
   "id": "8d9b84ac-c29e-41fd-ae33-ac86ad556b63",
   "metadata": {},
   "source": [
    "# Isaac Sim Cloud Demo"
   ]
  },
  {
   "cell_type": "markdown",
   "id": "6b9d1211-630d-48cb-9ab2-135a6b03d1e7",
   "metadata": {},
   "source": [
    "## Open Virtual Display"
   ]
  },
  {
   "cell_type": "code",
   "execution_count": 1,
   "id": "318701e3-70f1-4b58-a6ee-1364e001dd75",
   "metadata": {
    "trusted": true
   },
   "outputs": [],
   "source": [
    "from utils import display_desktop\n",
    "display_desktop()"
   ]
  },
  {
   "cell_type": "markdown",
   "id": "70e2b1bf-fdb2-4e36-a4f9-34daef6e7b19",
   "metadata": {},
   "source": [
    "## Update shader cache"
   ]
  },
  {
   "cell_type": "code",
   "execution_count": null,
   "id": "ecde274e-3de2-451b-9b55-b47392150162",
   "metadata": {
    "trusted": true
   },
   "outputs": [],
   "source": [
    "%%bash\n",
    "wget -q https://ivan.informatik.uni-bremen.de/data/ov-cache.tar.gz\n",
    "rm -rf /home/${NB_USER}/.cache/ov\n",
    "tar -xf ov-cache.tar.gz -C /home/${NB_USER}/.cache/\n",
    "rm ov-cache.tar.gz"
   ]
  },
  {
   "cell_type": "markdown",
   "id": "9fc321ea",
   "metadata": {},
   "source": [
    "## Start Issac-sim in the background"
   ]
  },
  {
   "cell_type": "code",
   "execution_count": 3,
   "id": "1524d530",
   "metadata": {
    "trusted": true
   },
   "outputs": [],
   "source": [
    "%%bash --bg\n",
    "isaacsim isaacsim.exp.full"
   ]
  },
  {
   "cell_type": "code",
   "execution_count": null,
   "id": "07e3d94c-4943-4381-aa8a-9f28af658079",
   "metadata": {
    "trusted": true
   },
   "outputs": [],
   "source": []
  }
 ],
 "metadata": {
  "kernelspec": {
   "display_name": "Python 3 (ipykernel)",
   "language": "python",
   "name": "python3"
  },
  "language_info": {
   "codemirror_mode": {
    "name": "ipython",
    "version": 3
   },
   "file_extension": ".py",
   "mimetype": "text/x-python",
   "name": "python",
   "nbconvert_exporter": "python",
   "pygments_lexer": "ipython3",
   "version": "3.10.11"
  }
 },
 "nbformat": 4,
 "nbformat_minor": 5
}
