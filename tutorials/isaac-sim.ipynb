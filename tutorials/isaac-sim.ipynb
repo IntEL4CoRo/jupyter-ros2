{
 "cells": [
  {
   "cell_type": "markdown",
   "id": "8d9b84ac-c29e-41fd-ae33-ac86ad556b63",
   "metadata": {},
   "source": [
    "# Isaac Sim BDD"
   ]
  },
  {
   "cell_type": "markdown",
   "id": "6b9d1211-630d-48cb-9ab2-135a6b03d1e7",
   "metadata": {},
   "source": [
    "## Open Virtual Display"
   ]
  },
  {
   "cell_type": "code",
   "execution_count": 1,
   "id": "318701e3-70f1-4b58-a6ee-1364e001dd75",
   "metadata": {},
   "outputs": [],
   "source": [
    "from utils import display_desktop\n",
    "display_desktop()"
   ]
  },
  {
   "cell_type": "markdown",
   "id": "70e2b1bf-fdb2-4e36-a4f9-34daef6e7b19",
   "metadata": {},
   "source": [
    "## Fetch isaacsim cache"
   ]
  },
  {
   "cell_type": "code",
   "execution_count": 2,
   "id": "ecde274e-3de2-451b-9b55-b47392150162",
   "metadata": {},
   "outputs": [],
   "source": [
    "%%bash\n",
    "cd /tmp\n",
    "wget -q https://ivan.informatik.uni-bremen.de/data/isaacsim-cache.tar.gz\n",
    "tar -xzf isaacsim-cache.tar.gz\n",
    "rm isaacsim-cache.tar.gz\n",
    "cd isaacsim-cache\n",
    "mv ./cache/kit /isaac-sim/kit/cache\n",
    "mv ./cache/ov $HOME/.cache/ov\n",
    "mv ./cache/pip $HOME/.cache/pip\n",
    "mkdir -p $HOME/.cache/nvidia\n",
    "mv ./cache/glcache $HOME/.cache/nvidia/GLCache\n",
    "mkdir -p $HOME/.nv\n",
    "mv ./cache/computecache $HOME/.nv/ComputeCache\n",
    "mkdir -p $HOME/.nvidia-omniverse\n",
    "mv ./logs $HOME/.nvidia-omniverse/logs\n",
    "mkdir -p $HOME/.local/share/ov\n",
    "mv ./data $HOME/.local/share/ov/data\n",
    "mv ./documents $HOME/Documents\n",
    "echo \"Done!\""
   ]
  },
  {
   "cell_type": "markdown",
   "id": "4fbe56b3-acd7-45d5-b98f-ccf0e3eb2af8",
   "metadata": {},
   "source": [
    "## Config isaacsim\n",
    "\n",
    "### Native app\n",
    "\n",
    "```yaml\n",
    "headless: False\n",
    "render: True\n",
    "```\n",
    "### WebRTC\n",
    "\n",
    "```yaml\n",
    "# Note: while 'use_livestream' is true, both headless and render should be True\n",
    "use_livestream: True\n",
    "headless: True\n",
    "render: True\n",
    "width: 1280\n",
    "height: 720\n",
    "window_width: 1920\n",
    "window_height: 1080\n",
    "hide_ui: False\n",
    "renderer: \"RayTracedLighting\"\n",
    "display_options: 3286\n",
    "draw_mouse: True\n",
    "protocol: ws # websocket protocol\n",
    "enable_nginx: False\n",
    "```"
   ]
  },
  {
   "cell_type": "code",
   "execution_count": 6,
   "id": "5a7d8506-fdf5-428f-ab4d-8d7cce72bd6b",
   "metadata": {},
   "outputs": [],
   "source": [
    "%%bash\n",
    "cd $HOME/behave-isaac-bdd/bdd-isaacsim-exec/examples/\n",
    "echo \"\n",
    "use_livestream: True\n",
    "headless: True\n",
    "render: True\n",
    "width: 1280\n",
    "height: 720\n",
    "window_width: 1920\n",
    "window_height: 1080\n",
    "hide_ui: False\n",
    "renderer: \"RayTracedLighting\"\n",
    "display_options: 3286\n",
    "draw_mouse: True\n",
    "protocol: ws # websocket protocol\n",
    "enable_nginx: False\n",
    "\" > config.yaml"
   ]
  },
  {
   "cell_type": "markdown",
   "id": "027edc2d-a186-4864-a015-8136d25d43ab",
   "metadata": {},
   "source": [
    "## Start Demo"
   ]
  },
  {
   "cell_type": "code",
   "execution_count": 7,
   "id": "1524d530",
   "metadata": {
    "scrolled": true
   },
   "outputs": [],
   "source": [
    "%%bash --bg\n",
    "cd $HOME/behave-isaac-bdd/bdd-isaacsim-exec/examples/\n",
    "${ISAAC_PYTHON_SH} ${ISAAC_SIM_DIR}/kit/python/bin/behave"
   ]
  },
  {
   "cell_type": "markdown",
   "id": "abb7a350-3736-4f99-a468-8dc71e3cb312",
   "metadata": {},
   "source": [
    "## Open webrtc client"
   ]
  },
  {
   "cell_type": "code",
   "execution_count": 2,
   "id": "8362bdbf-0d11-41d7-a9d3-1d535b332a22",
   "metadata": {
    "scrolled": true
   },
   "outputs": [],
   "source": [
    "%%bash --bg\n",
    "chrome http://localhost:8211/streaming/webrtc-client?server=localhost"
   ]
  },
  {
   "cell_type": "code",
   "execution_count": null,
   "id": "2d6c6ebd-1763-4251-9572-86e2cc0443f3",
   "metadata": {},
   "outputs": [],
   "source": []
  }
 ],
 "metadata": {
  "kernelspec": {
   "display_name": "Python 3 (ipykernel)",
   "language": "python",
   "name": "python3"
  },
  "language_info": {
   "codemirror_mode": {
    "name": "ipython",
    "version": 3
   },
   "file_extension": ".py",
   "mimetype": "text/x-python",
   "name": "python",
   "nbconvert_exporter": "python",
   "pygments_lexer": "ipython3",
   "version": "3.10.11"
  }
 },
 "nbformat": 4,
 "nbformat_minor": 5
}
