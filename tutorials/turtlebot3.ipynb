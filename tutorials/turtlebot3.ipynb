{
 "cells": [
  {
   "cell_type": "markdown",
   "id": "396ae36f-6db4-4726-92cc-9362a93668e1",
   "metadata": {},
   "source": [
    "# Turtlebot3 Gazebo Simulation\n",
    "\n",
    "\n",
    "Source: [Turtlebot3](https://emanual.robotis.com/docs/en/platform/turtlebot3/simulation/)"
   ]
  },
  {
   "cell_type": "markdown",
   "id": "0752dabe-b38e-45c0-a0ae-38a3f1c7f0dd",
   "metadata": {},
   "source": [
    "## Display a remote desktop"
   ]
  },
  {
   "cell_type": "code",
   "execution_count": null,
   "id": "35b5d47a-85b4-4570-b95e-3405913b28a5",
   "metadata": {},
   "outputs": [],
   "source": [
    "from utils import display_desktop\n",
    "display_desktop()"
   ]
  },
  {
   "cell_type": "code",
   "execution_count": null,
   "id": "89507595",
   "metadata": {},
   "outputs": [],
   "source": [
    "!export TURTLEBOT3_MODEL=burger\n",
    "!ros2 launch turtlebot3_gazebo empty_world.launch.py"
   ]
  },
  {
   "cell_type": "code",
   "execution_count": null,
   "id": "9032fde3",
   "metadata": {},
   "outputs": [],
   "source": [
    "!export TURTLEBOT3_MODEL=waffle\n",
    "!ros2 launch turtlebot3_gazebo turtlebot3_world.launch.py"
   ]
  },
  {
   "cell_type": "code",
   "execution_count": null,
   "id": "1267cdbf",
   "metadata": {},
   "outputs": [],
   "source": [
    "!export TURTLEBOT3_MODEL=waffle_pi\n",
    "!ros2 launch turtlebot3_gazebo turtlebot3_house.launch.py"
   ]
  }
 ],
 "metadata": {
  "kernelspec": {
   "display_name": "Python 3 (ipykernel)",
   "language": "python",
   "name": "python3"
  },
  "language_info": {
   "codemirror_mode": {
    "name": "ipython",
    "version": 3
   },
   "file_extension": ".py",
   "mimetype": "text/x-python",
   "name": "python",
   "nbconvert_exporter": "python",
   "pygments_lexer": "ipython3",
   "version": "3.10.11"
  }
 },
 "nbformat": 4,
 "nbformat_minor": 5
}
