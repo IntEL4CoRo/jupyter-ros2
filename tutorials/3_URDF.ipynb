{
 "cells": [
  {
   "cell_type": "markdown",
   "id": "396ae36f-6db4-4726-92cc-9362a93668e1",
   "metadata": {},
   "source": [
    "# URDF tutorial\n",
    "\n",
    "In this tutorial, we’re going to build a visual model of a robot that vaguely looks like R2D2. \n",
    "\n",
    "Goal: Learn how to build a visual model of a robot that you can view in Rviz. \n",
    "\n",
    "Tutorial level: Intermediate\n",
    "\n",
    "Time: 20 minutes\n",
    "\n",
    "Source: [Building a visual robot model from scratch](https://docs.ros.org/en/humble/Tutorials/Intermediate/URDF/Building-a-Visual-Robot-Model-with-URDF-from-Scratch.html)"
   ]
  },
  {
   "cell_type": "markdown",
   "id": "0752dabe-b38e-45c0-a0ae-38a3f1c7f0dd",
   "metadata": {},
   "source": [
    "## Display a remote desktop"
   ]
  },
  {
   "cell_type": "code",
   "execution_count": null,
   "id": "35b5d47a-85b4-4570-b95e-3405913b28a5",
   "metadata": {},
   "outputs": [],
   "source": [
    "from utils import display_desktop\n",
    "display_desktop()"
   ]
  },
  {
   "cell_type": "markdown",
   "id": "bd238d1a-9a37-43e6-867e-131a9a8f6c18",
   "metadata": {},
   "source": [
    "## Fetch the URDF samples from Github"
   ]
  },
  {
   "cell_type": "code",
   "execution_count": null,
   "id": "977e5da5-b550-410c-9fe6-a9ec985ff8e5",
   "metadata": {},
   "outputs": [],
   "source": [
    "!git clone https://github.com/ros/urdf_tutorial.git -b ros2"
   ]
  },
  {
   "cell_type": "markdown",
   "id": "0f0e68bf-d7f1-48a3-ba0e-f5227f665909",
   "metadata": {},
   "source": [
    "## Building a visual robot model\n",
    "\n",
    "### One Shape \n",
    "File: [01-myfirst.urdf](./urdf_tutorial/urdf/01-myfirst.urdf)"
   ]
  },
  {
   "cell_type": "code",
   "execution_count": null,
   "id": "74a7ef87-227d-45f8-a0bd-af99a11a2754",
   "metadata": {
    "scrolled": true
   },
   "outputs": [],
   "source": [
    "# Dipslay in rviz\n",
    "!ros2 launch urdf_tutorial display.launch.py model:=$PWD/urdf_tutorial/urdf/01-myfirst.urdf"
   ]
  },
  {
   "cell_type": "markdown",
   "id": "8eda0acb-b585-4ba0-9e15-26848fb7f92e",
   "metadata": {},
   "source": [
    "### Multiple Shapes\n",
    "\n",
    "File: [02-multipleshapes.urdf](./urdf_tutorial/urdf/02-multipleshapes.urdf)"
   ]
  },
  {
   "cell_type": "code",
   "execution_count": null,
   "id": "85a95571-0d52-43e0-a660-98b94863159d",
   "metadata": {
    "scrolled": true
   },
   "outputs": [],
   "source": [
    "# Dipslay in rviz\n",
    "!ros2 launch urdf_tutorial display.launch.py model:=$PWD/urdf_tutorial/urdf/02-multipleshapes.urdf"
   ]
  },
  {
   "cell_type": "markdown",
   "id": "7cea98e2-7c1f-4501-9d38-daa13ed396a2",
   "metadata": {},
   "source": [
    "### Origins\n",
    "\n",
    "File: [03-origins.urdf](./urdf_tutorial/urdf/03-origins.urdf)"
   ]
  },
  {
   "cell_type": "code",
   "execution_count": null,
   "id": "e3323670-dd99-4c8a-982a-9f675bd3614d",
   "metadata": {
    "scrolled": true
   },
   "outputs": [],
   "source": [
    "# Dipslay in rviz\n",
    "!ros2 launch urdf_tutorial display.launch.py model:=$PWD/urdf_tutorial/urdf/03-origins.urdf"
   ]
  },
  {
   "cell_type": "markdown",
   "id": "ba9334a5-174f-4ba3-9b85-3976987efabf",
   "metadata": {},
   "source": [
    "### Material Girl\n",
    "\n",
    "File: [04-materials.urdf](./urdf_tutorial/urdf/04-materials.urdf)"
   ]
  },
  {
   "cell_type": "code",
   "execution_count": null,
   "id": "c797da6b-fdf9-4059-a0e8-b75dc3c2d962",
   "metadata": {
    "scrolled": true
   },
   "outputs": [],
   "source": [
    "!ros2 launch urdf_tutorial display.launch.py model:=$PWD/urdf_tutorial/urdf/04-materials.urdf"
   ]
  },
  {
   "cell_type": "markdown",
   "id": "6ee1716b-5fc6-4525-91bb-31651b262383",
   "metadata": {},
   "source": [
    "### Finishing the visual Model\n",
    "\n",
    "File: [05-visual.urdf](./urdf_tutorial/urdf/05-visual.urdf)"
   ]
  },
  {
   "cell_type": "code",
   "execution_count": null,
   "id": "7cc907a5-8eaf-4add-8904-9585cda0baa6",
   "metadata": {
    "scrolled": true
   },
   "outputs": [],
   "source": [
    "!ros2 launch urdf_tutorial display.launch.py model:=$PWD/urdf_tutorial/urdf/05-visual.urdf"
   ]
  },
  {
   "cell_type": "markdown",
   "id": "9ec0297d-8351-46a9-b90b-f2dca575a57f",
   "metadata": {},
   "source": [
    "## Define movable joints in URDF.\n",
    "\n",
    "Source: [Building a movable robot model](https://docs.ros.org/en/humble/Tutorials/Intermediate/URDF/Building-a-Movable-Robot-Model-with-URDF.html)"
   ]
  },
  {
   "cell_type": "markdown",
   "id": "13f167a5-9590-4f7a-80df-08ffd772055c",
   "metadata": {},
   "source": [
    "### URDF with flexible joints\n",
    "\n",
    "File: [06-flexible.urdf](./urdf_tutorial/urdf/06-flexible.urdf)"
   ]
  },
  {
   "cell_type": "code",
   "execution_count": 11,
   "id": "7c8b8ec4-51ec-401e-bf45-9cebef4b916a",
   "metadata": {
    "scrolled": true
   },
   "outputs": [
    {
     "name": "stdout",
     "output_type": "stream",
     "text": [
      "[INFO] [launch]: All log files can be found below /home/jovyan/.ros/log/2024-05-17-12-50-57-894746-b8f2d1f17599-10730\n",
      "[INFO] [launch]: Default logging verbosity is set to INFO\n",
      "[INFO] [robot_state_publisher-1]: process started with pid [10732]\n",
      "[INFO] [joint_state_publisher_gui-2]: process started with pid [10734]\n",
      "[INFO] [rviz2-3]: process started with pid [10736]\n",
      "[robot_state_publisher-1] [INFO] [1715950258.096435076] [robot_state_publisher]: got segment base_link\n",
      "[robot_state_publisher-1] [INFO] [1715950258.096486247] [robot_state_publisher]: got segment box\n",
      "[robot_state_publisher-1] [INFO] [1715950258.096492502] [robot_state_publisher]: got segment gripper_pole\n",
      "[robot_state_publisher-1] [INFO] [1715950258.096496084] [robot_state_publisher]: got segment head\n",
      "[robot_state_publisher-1] [INFO] [1715950258.096499168] [robot_state_publisher]: got segment left_back_wheel\n",
      "[robot_state_publisher-1] [INFO] [1715950258.096502169] [robot_state_publisher]: got segment left_base\n",
      "[robot_state_publisher-1] [INFO] [1715950258.096505057] [robot_state_publisher]: got segment left_front_wheel\n",
      "[robot_state_publisher-1] [INFO] [1715950258.096508018] [robot_state_publisher]: got segment left_gripper\n",
      "[robot_state_publisher-1] [INFO] [1715950258.096510958] [robot_state_publisher]: got segment left_leg\n",
      "[robot_state_publisher-1] [INFO] [1715950258.096513788] [robot_state_publisher]: got segment left_tip\n",
      "[robot_state_publisher-1] [INFO] [1715950258.096516579] [robot_state_publisher]: got segment right_back_wheel\n",
      "[robot_state_publisher-1] [INFO] [1715950258.096519454] [robot_state_publisher]: got segment right_base\n",
      "[robot_state_publisher-1] [INFO] [1715950258.096522360] [robot_state_publisher]: got segment right_front_wheel\n",
      "[robot_state_publisher-1] [INFO] [1715950258.096525293] [robot_state_publisher]: got segment right_gripper\n",
      "[robot_state_publisher-1] [INFO] [1715950258.096528172] [robot_state_publisher]: got segment right_leg\n",
      "[robot_state_publisher-1] [INFO] [1715950258.096530962] [robot_state_publisher]: got segment right_tip\n",
      "[rviz2-3] QStandardPaths: XDG_RUNTIME_DIR not set, defaulting to '/tmp/runtime-jovyan'\n",
      "[rviz2-3] [INFO] [1715950258.212760091] [rviz2]: Stereo is NOT SUPPORTED\n",
      "[rviz2-3] [INFO] [1715950258.212813967] [rviz2]: OpenGl version: 4.5 (GLSL 4.5)\n",
      "[rviz2-3] [INFO] [1715950258.250598375] [rviz2]: Stereo is NOT SUPPORTED\n",
      "[joint_state_publisher_gui-2] QStandardPaths: XDG_RUNTIME_DIR not set, defaulting to '/tmp/runtime-jovyan'\n",
      "[joint_state_publisher_gui-2] [INFO] [1715950258.339898207] [joint_state_publisher]: Waiting for robot_description to be published on the robot_description topic...\n",
      "[joint_state_publisher_gui-2] [INFO] [1715950258.347834452] [joint_state_publisher]: Centering\n",
      "[joint_state_publisher_gui-2] [INFO] [1715950258.390425027] [joint_state_publisher]: Centering\n",
      "^C\n",
      "[WARNING] [launch]: user interrupted with ctrl-c (SIGINT)\n",
      "[rviz2-3] [INFO] [1715950336.169761986] [rclcpp]: signal_handler(signum=2)\n",
      "[robot_state_publisher-1] [INFO] [1715950336.169779944] [rclcpp]: signal_handler(signum=2)\n",
      "[ERROR] [joint_state_publisher_gui-2]: process has died [pid 10734, exit code -2, cmd '/opt/ros/humble/lib/joint_state_publisher_gui/joint_state_publisher_gui --ros-args'].\n",
      "[INFO] [robot_state_publisher-1]: process has finished cleanly [pid 10732]\n",
      "[INFO] [rviz2-3]: process has finished cleanly [pid 10736]\n"
     ]
    }
   ],
   "source": [
    "!ros2 launch urdf_tutorial display.launch.py model:=$PWD/urdf_tutorial/urdf/06-flexible.urdf"
   ]
  },
  {
   "cell_type": "code",
   "execution_count": null,
   "id": "061f6ede-d767-4298-918e-93007f17a529",
   "metadata": {},
   "outputs": [],
   "source": []
  }
 ],
 "metadata": {
  "kernelspec": {
   "display_name": "Python 3 (ipykernel)",
   "language": "python",
   "name": "python3"
  },
  "language_info": {
   "codemirror_mode": {
    "name": "ipython",
    "version": 3
   },
   "file_extension": ".py",
   "mimetype": "text/x-python",
   "name": "python",
   "nbconvert_exporter": "python",
   "pygments_lexer": "ipython3",
   "version": "3.10.11"
  }
 },
 "nbformat": 4,
 "nbformat_minor": 5
}
