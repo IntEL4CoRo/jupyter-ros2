{
 "cells": [
  {
   "cell_type": "markdown",
   "id": "396ae36f-6db4-4726-92cc-9362a93668e1",
   "metadata": {},
   "source": [
    "# Turtlebot3 Gazebo Simulation\n",
    "\n",
    "\n",
    "Source: [Turtlebot3 Simula](https://emanual.robotis.com/docs/en/platform/turtlebot3/simulation/)"
   ]
  },
  {
   "cell_type": "markdown",
   "id": "0752dabe-b38e-45c0-a0ae-38a3f1c7f0dd",
   "metadata": {},
   "source": [
    "### Display a remote desktop"
   ]
  },
  {
   "cell_type": "code",
   "execution_count": 7,
   "id": "35b5d47a-85b4-4570-b95e-3405913b28a5",
   "metadata": {},
   "outputs": [],
   "source": [
    "from utils import display_desktop\n",
    "display_desktop()"
   ]
  },
  {
   "cell_type": "markdown",
   "id": "dbd6a627-6068-47a2-9da7-aea16f0b8b18",
   "metadata": {
    "scrolled": true
   },
   "source": [
    "### Launch Simulation World\n",
    "\n",
    "Start one of the following simulation in a terminal\n",
    "\n",
    "```bash\n",
    "ros2 launch turtlebot3_gazebo empty_world.launch.py\n",
    "```\n",
    "\n",
    "```bash\n",
    "ros2 launch turtlebot3_gazebo turtlebot3_world.launch.py\n",
    "```\n",
    "\n",
    "```bash\n",
    "ros2 launch turtlebot3_gazebo turtlebot3_house.launch.py\n",
    "```\n",
    "\n",
    "<button data-commandlinker-command=\"terminal:create-new\" class=\"jupyter-button\">Open a Terminal</button>"
   ]
  },
  {
   "cell_type": "markdown",
   "id": "2b29d87f-07ab-4d9d-bcba-cf55ba5dfc00",
   "metadata": {},
   "source": [
    "### Run Teleoperation Node\n",
    "\n",
    "```bash\n",
    "ros2 run turtlebot3_teleop teleop_keyboard\n",
    "```\n",
    "\n",
    "<button data-commandlinker-command=\"terminal:create-new\" class=\"jupyter-button\">Open a Terminal</button>"
   ]
  },
  {
   "cell_type": "markdown",
   "id": "19fc6fc4-6430-412b-9766-f857a933efce",
   "metadata": {},
   "source": [
    "### Visualize Simulation data(RViz2)\n",
    "\n",
    "```bash\n",
    "ros2 launch turtlebot3_bringup rviz2.launch.py\n",
    "```\n",
    "\n",
    "<button data-commandlinker-command=\"terminal:create-new\" class=\"jupyter-button\">Open a Terminal</button>"
   ]
  },
  {
   "cell_type": "markdown",
   "id": "ae27170a-4064-49ef-9377-93bffb7da544",
   "metadata": {},
   "source": [
    "### Todos:\n",
    "- [ ] IAI office map\n",
    "- [ ] SLAM\n",
    "- [ ] Naviation\n",
    "- [ ] ..."
   ]
  }
 ],
 "metadata": {
  "kernelspec": {
   "display_name": "Python 3 (ipykernel)",
   "language": "python",
   "name": "python3"
  },
  "language_info": {
   "codemirror_mode": {
    "name": "ipython",
    "version": 3
   },
   "file_extension": ".py",
   "mimetype": "text/x-python",
   "name": "python",
   "nbconvert_exporter": "python",
   "pygments_lexer": "ipython3",
   "version": "3.10.11"
  }
 },
 "nbformat": 4,
 "nbformat_minor": 5
}
